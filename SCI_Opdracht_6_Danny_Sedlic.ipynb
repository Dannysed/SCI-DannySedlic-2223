{
 "cells": [
  {
   "cell_type": "code",
   "execution_count": 5,
   "id": "d80c62af",
   "metadata": {},
   "outputs": [],
   "source": [
    "#!pip install numpy-financial\n",
    "import numpy_financial as npf"
   ]
  },
  {
   "cell_type": "markdown",
   "id": "2f6700ad",
   "metadata": {},
   "source": [
    "# CF = Cash flow\n",
    "Dit is het verschil van inkomende geldstromen en uitgaande geldstromen.\n",
    "\n",
    "vb. stel dat een bedrijf 20000 eur aan verkopen heeft gehdad in een kwartaal, dit zijn dan de inkomende gelsdstromen.\n",
    "\n",
    "Maar een bedrijf heeft ook uitgaven zoals bv.: 10000 aan salarissen betalen en 3000 aan google reclames, dit zijn uigaande geldstromen"
   ]
  },
  {
   "cell_type": "code",
   "execution_count": 10,
   "id": "3122cdab",
   "metadata": {},
   "outputs": [
    {
     "name": "stdout",
     "output_type": "stream",
     "text": [
      "Cash flow: 7000\n"
     ]
    }
   ],
   "source": [
    "inkomende_geldstromen = 20000\n",
    "uitgaande_geldstromen = 13000\n",
    "\n",
    "print(\"Cash flow:\", inkomende_geldstromen - uitgaande_geldstromen)"
   ]
  },
  {
   "cell_type": "markdown",
   "id": "02f21053",
   "metadata": {},
   "source": [
    "# I = Interest\n",
    "\n",
    "Dit is de rente van een bepaalde betaling.\n",
    "\n",
    "vb. Je moet 13000 eur betalen in een periode van 10 maanden en je maandelijkse betaling is 1500 eur"
   ]
  },
  {
   "cell_type": "code",
   "execution_count": 99,
   "id": "1dfc1ca8",
   "metadata": {},
   "outputs": [
    {
     "name": "stdout",
     "output_type": "stream",
     "text": [
      "Iterest: 2.69%\n"
     ]
    }
   ],
   "source": [
    "maandelijkse_betaling = 1500\n",
    "aantal_betalingen = 10\n",
    "lening_hoeveelheid = 13000\n",
    "\n",
    "interest = npf.rate(aantal_betalingen, -maandelijkse_betaling, lening_hoeveelheid, 0.0)\n",
    "interest = interest*100\n",
    "\n",
    "print(f\"Iterest: {interest:.2f}%\")"
   ]
  },
  {
   "cell_type": "markdown",
   "id": "9fee3dab",
   "metadata": {},
   "source": [
    "# IRR = Internal Rate of Return\n",
    "\n",
    "Dit is een manier om te bepalen hoeveel winst een investering oplevert. De IRR neemt de tijdsindeling en hoeveelheid geld die door de investering worden gegenereerd"
   ]
  },
  {
   "cell_type": "code",
   "execution_count": 202,
   "id": "0971a9c6",
   "metadata": {},
   "outputs": [
    {
     "name": "stdout",
     "output_type": "stream",
     "text": [
      "Internal rate of return (IRR): 0.3490344565611563\n"
     ]
    }
   ],
   "source": [
    "cashflows = [-10000, 5000, 5000, 5000, 5000]\n",
    "irr = npf.irr(cashflows)\n",
    "\n",
    "print(f\"Internal rate of return (IRR): {irr}\")"
   ]
  },
  {
   "cell_type": "markdown",
   "id": "6846c5a9",
   "metadata": {},
   "source": [
    "# NPV = Net Present Value \n",
    "\n",
    "Dit geeft antwoord op de vraag of iets financieel gezien verstandig is om een project uit te voeren.\n",
    "\n",
    "In mijn voorbeeld start ik een project dat 10000 heeft gekost en 4 jaar lang 5000 per jaar opbrengt. \n"
   ]
  },
  {
   "cell_type": "code",
   "execution_count": 199,
   "id": "7b233f40",
   "metadata": {},
   "outputs": [
    {
     "name": "stdout",
     "output_type": "stream",
     "text": [
      "Net present value: 5849.33\n"
     ]
    }
   ],
   "source": [
    "rate = 0.10 #discount rate\n",
    "cashflows = [-10000, 5000, 5000, 5000, 5000]\n",
    "\n",
    "npv = npf.npv(rate, cashflows)\n",
    "print(f\"Net present value: {npv:.2f}\")"
   ]
  },
  {
   "cell_type": "markdown",
   "id": "883c4a9b",
   "metadata": {},
   "source": [
    "# PV = Present Value\n",
    "\n",
    "Dit is nodig om de future value te brekenen\n",
    "\n",
    "Dit is de som geld die moet worden geïnvesteerd om een bepaald toekomstig doel te bereiken\n",
    "\n",
    "hier zie je de berekening om de huidige waarde te berekenen van een project. Ik heb als voorbeeld gekozen om 5% interest te gebruiken op een totale waarde van 10000 eur met 10 betalingen."
   ]
  },
  {
   "cell_type": "code",
   "execution_count": 209,
   "id": "7510bd26",
   "metadata": {
    "scrolled": true
   },
   "outputs": [
    {
     "name": "stdout",
     "output_type": "stream",
     "text": [
      "Present value (te betalen): -6139.13\n"
     ]
    }
   ],
   "source": [
    "interest = 0.05\n",
    "aantal_betalingen = 10\n",
    "totale_waarde = 10000\n",
    "\n",
    "pv = npf.pv(interest, aantal_betalingen, 0, totale_waarde)\n",
    "print(f\"Present value (te betalen): {pv:.2f}\")"
   ]
  },
  {
   "cell_type": "markdown",
   "id": "63d24e4f",
   "metadata": {},
   "source": [
    "# FV = Future Value\n",
    "\n",
    "Dit is de toekomstige waarde van een investering.\n",
    "\n",
    "In mijn voorbeeld heb ik gekozen om over een periode van 20 maanden een betaling te doen van 200 met een interest rate van 5%."
   ]
  },
  {
   "cell_type": "code",
   "execution_count": 208,
   "id": "ed1b0df6",
   "metadata": {},
   "outputs": [
    {
     "name": "stdout",
     "output_type": "stream",
     "text": [
      "Future value: 22902.14\n"
     ]
    }
   ],
   "source": [
    "rate = 0.05 # interest rate of 5%\n",
    "time = 20\n",
    "betaling = 200\n",
    "\n",
    "future_value = npf.fv(rate, time, -betaling, pv)\n",
    "print(f\"Future value: {future_value:.2f}\")"
   ]
  }
 ],
 "metadata": {
  "kernelspec": {
   "display_name": "Python 3",
   "language": "python",
   "name": "python3"
  },
  "language_info": {
   "codemirror_mode": {
    "name": "ipython",
    "version": 3
   },
   "file_extension": ".py",
   "mimetype": "text/x-python",
   "name": "python",
   "nbconvert_exporter": "python",
   "pygments_lexer": "ipython3",
   "version": "3.8.8"
  }
 },
 "nbformat": 4,
 "nbformat_minor": 5
}
